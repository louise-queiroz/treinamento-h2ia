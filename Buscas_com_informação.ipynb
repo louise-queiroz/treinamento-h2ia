{
  "nbformat": 4,
  "nbformat_minor": 0,
  "metadata": {
    "colab": {
      "provenance": []
    },
    "kernelspec": {
      "name": "python3",
      "display_name": "Python 3"
    },
    "language_info": {
      "name": "python"
    }
  },
  "cells": [
    {
      "cell_type": "markdown",
      "metadata": {
        "id": "21uUELma0562"
      },
      "source": [
        "# O Problema\n",
        "Sliding Puzzle - Bloco Deslizante"
      ]
    },
    {
      "cell_type": "code",
      "metadata": {
        "colab": {
          "base_uri": "https://localhost:8080/",
          "height": 218
        },
        "id": "duRbJW3rz01L",
        "outputId": "e1049773-9cf4-4b39-e026-e220c566311f"
      },
      "source": [
        "# !wget -qq https://miro.medium.com/max/700/1*W7jg4GmEjGBypd9WPktasQ.gif\n",
        "from IPython.display import Image\n",
        "Image(url='https://miro.medium.com/max/700/1*W7jg4GmEjGBypd9WPktasQ.gif',width=200)"
      ],
      "execution_count": null,
      "outputs": [
        {
          "output_type": "execute_result",
          "data": {
            "text/html": [
              "<img src=\"https://miro.medium.com/max/700/1*W7jg4GmEjGBypd9WPktasQ.gif\" width=\"200\"/>"
            ],
            "text/plain": [
              "<IPython.core.display.Image object>"
            ]
          },
          "metadata": {
            "tags": []
          },
          "execution_count": 5
        }
      ]
    },
    {
      "cell_type": "markdown",
      "metadata": {
        "id": "f6TPxqB-1Cwx"
      },
      "source": [
        "# Resolver o quebra-cabeças usando Buscas"
      ]
    },
    {
      "cell_type": "markdown",
      "metadata": {
        "id": "o6ZClGCC1RxB"
      },
      "source": [
        "## A*"
      ]
    },
    {
      "cell_type": "code",
      "source": [
        "import numpy as np\n",
        "import time\n",
        "import heapq\n",
        "\n",
        "class Node:\n",
        "    goal_state = np.array([[1, 2, 3], [4, 5, 6], [7, 8, 0]])\n",
        "\n",
        "    def __init__(self, state, parent=None, action=None, g=0, h=0):\n",
        "        self.state = state\n",
        "        self.parent = parent\n",
        "        self.action = action\n",
        "        self.g = g\n",
        "        self.h = h\n",
        "        self.f = self.g + self.h\n",
        "        self.children = []\n",
        "\n",
        "    def __eq__(self, other):\n",
        "        return np.array_equal(self.state, other.state)\n",
        "\n",
        "    def __lt__(self, other):\n",
        "        return self.f > other.f\n",
        "\n",
        "    @staticmethod\n",
        "    def heuristic(board):\n",
        "        distance = 0\n",
        "        for i in range(3):\n",
        "            for j in range(3):\n",
        "                if board[i][j] != 0:\n",
        "                    value = board[i][j] - 1\n",
        "                    target_row = value // 3\n",
        "                    target_col = value % 3\n",
        "                    distance += abs(i - target_row) + abs(j - target_col)\n",
        "        return distance\n",
        "\n",
        "    def expand_node(self):\n",
        "        zero_positions = np.argwhere(self.state == 0)\n",
        "        zero_i, zero_j = zero_positions[0]\n",
        "\n",
        "        for new_i, new_j in [(zero_i - 1, zero_j), (zero_i + 1, zero_j), (zero_i, zero_j - 1), (zero_i, zero_j + 1)]:\n",
        "            if 0 <= new_i < 3 and 0 <= new_j < 3:\n",
        "                new_state = np.copy(self.state)\n",
        "                new_state[zero_i, zero_j], new_state[new_i, new_j] = new_state[new_i, new_j], new_state[zero_i, zero_j]\n",
        "                new_node = Node(new_state, parent=self, action=f\"({new_i},{new_j})\", g=self.g + 1, h=Node.heuristic(new_state))\n",
        "                self.children.append(new_node)\n",
        "\n",
        "def aPathFinder(board):\n",
        "    start = time.time()\n",
        "    goal = Node.goal_state\n",
        "    visited = set()\n",
        "    open_list = [(board.f, board)]\n",
        "    heapq.heapify(open_list)\n",
        "    count = 0\n",
        "\n",
        "    while open_list:\n",
        "        count += 1\n",
        "        current_node = heapq.heappop(open_list)[1]\n",
        "\n",
        "        if np.array_equal(current_node.state, goal):\n",
        "            path = []\n",
        "            while current_node:\n",
        "                path.append(current_node.state)\n",
        "                current_node = current_node.parent\n",
        "            end = time.time()\n",
        "            execution_time = end - start\n",
        "            return path[::-1], count, execution_time\n",
        "\n",
        "        visited.add(tuple(current_node.state.flatten()))\n",
        "\n",
        "        current_node.expand_node()\n",
        "\n",
        "        for child in current_node.children:\n",
        "            child_state_tuple = tuple(child.state.flatten())\n",
        "            if child_state_tuple not in visited:\n",
        "                heapq.heappush(open_list, (child.f, child))\n",
        "                visited.add(child_state_tuple)\n",
        "\n",
        "    return None, None, None\n",
        "\n",
        "board_numbers = np.array([[0, 8, 7], [6, 5, 4], [3, 2, 1]])\n",
        "board = Node(board_numbers)\n",
        "\n",
        "result, count, time_taken = aPathFinder(board)\n",
        "if result:\n",
        "    print(\"Tabuleiro Inicial:\")\n",
        "    print(board_numbers)\n",
        "\n",
        "    print(\"\\nTabuleiro Final:\")\n",
        "    print(Node.goal_state)\n",
        "\n",
        "    print(f\"\\nTempo de execução: {time_taken}\")\n",
        "    print(f\"Iterações: {count}\")\n",
        "else:\n",
        "    print(\"Não foi encontrada uma solução.\")\n"
      ],
      "metadata": {
        "colab": {
          "base_uri": "https://localhost:8080/"
        },
        "id": "27v2lRl045GH",
        "outputId": "8fe45a77-cdf6-4a82-8d1f-c281649aed6b"
      },
      "execution_count": 3,
      "outputs": [
        {
          "output_type": "stream",
          "name": "stdout",
          "text": [
            "Tabuleiro Inicial:\n",
            "[[0 8 7]\n",
            " [6 5 4]\n",
            " [3 2 1]]\n",
            "\n",
            "Tabuleiro Final:\n",
            "[[1 2 3]\n",
            " [4 5 6]\n",
            " [7 8 0]]\n",
            "\n",
            "Tempo de execução: 0.04438281059265137\n",
            "Iterações: 358\n"
          ]
        }
      ]
    },
    {
      "cell_type": "markdown",
      "metadata": {
        "id": "rXU5HkCd1ZPu"
      },
      "source": [
        "## Discorra sobre o desempenho dos métodos em questões de:\n",
        "\n",
        "\n",
        "1.   Consumo de memória\n",
        "2.   Processamento\n",
        "\n"
      ]
    },
    {
      "cell_type": "markdown",
      "source": [
        "1. O consumo de memória depende da visitação de estados, pois ele guarda todos os estados visitados para evitar ciclos.\n",
        "2. O processamento foi bom com uma quantidade elevada de iterações porém um tempo de execução bom, acredito que com uma melhora na heurística poderia melhorar a execução."
      ],
      "metadata": {
        "id": "uyMQlciN4_Hf"
      }
    }
  ]
}