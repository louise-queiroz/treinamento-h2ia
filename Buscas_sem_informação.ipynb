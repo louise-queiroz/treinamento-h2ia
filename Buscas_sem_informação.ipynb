{
  "nbformat": 4,
  "nbformat_minor": 0,
  "metadata": {
    "colab": {
      "provenance": [],
      "include_colab_link": true
    },
    "kernelspec": {
      "name": "python3",
      "display_name": "Python 3"
    },
    "language_info": {
      "name": "python"
    }
  },
  "cells": [
    {
      "cell_type": "markdown",
      "metadata": {
        "id": "view-in-github",
        "colab_type": "text"
      },
      "source": [
        "<a href=\"https://colab.research.google.com/github/louise-queiroz/treinamento-h2ia/blob/main/Buscas_sem_informa%C3%A7%C3%A3o.ipynb\" target=\"_parent\"><img src=\"https://colab.research.google.com/assets/colab-badge.svg\" alt=\"Open In Colab\"/></a>"
      ]
    },
    {
      "cell_type": "markdown",
      "metadata": {
        "id": "21uUELma0562"
      },
      "source": [
        "# O Problema\n",
        "Sliding Puzzle - Bloco Deslizante"
      ]
    },
    {
      "cell_type": "code",
      "metadata": {
        "colab": {
          "base_uri": "https://localhost:8080/",
          "height": 218
        },
        "id": "duRbJW3rz01L",
        "outputId": "e1049773-9cf4-4b39-e026-e220c566311f"
      },
      "source": [
        "# !wget -qq https://miro.medium.com/max/700/1*W7jg4GmEjGBypd9WPktasQ.gif\n",
        "from IPython.display import Image\n",
        "Image(url='https://miro.medium.com/max/700/1*W7jg4GmEjGBypd9WPktasQ.gif',width=200)"
      ],
      "execution_count": null,
      "outputs": [
        {
          "output_type": "execute_result",
          "data": {
            "text/html": [
              "<img src=\"https://miro.medium.com/max/700/1*W7jg4GmEjGBypd9WPktasQ.gif\" width=\"200\"/>"
            ],
            "text/plain": [
              "<IPython.core.display.Image object>"
            ]
          },
          "metadata": {
            "tags": []
          },
          "execution_count": 5
        }
      ]
    },
    {
      "cell_type": "markdown",
      "metadata": {
        "id": "f6TPxqB-1Cwx"
      },
      "source": [
        "# Resolver o quebra-cabeças usando Buscas"
      ]
    },
    {
      "cell_type": "markdown",
      "metadata": {
        "id": "o6ZClGCC1RxB"
      },
      "source": [
        "## Busca em largura"
      ]
    },
    {
      "cell_type": "code",
      "metadata": {
        "id": "cmJfg8CF0Jwc",
        "colab": {
          "base_uri": "https://localhost:8080/"
        },
        "outputId": "84268232-758f-45fe-dff6-89e09c6fb76b"
      },
      "source": [
        "import time\n",
        "from collections import deque\n",
        "\n",
        "def get_moves(board):\n",
        "    moves = []\n",
        "    dx = [0, 0, -1, 1]\n",
        "    dy = [-1, 1, 0, 0]\n",
        "    x, y = None, None\n",
        "    for i in range(3):\n",
        "        for j in range(3):\n",
        "            if board[i][j] == 0:\n",
        "                x, y = i, j\n",
        "                break\n",
        "    for i in range(4):\n",
        "        nx, ny = x + dx[i], y + dy[i]\n",
        "        if 0 <= nx < 3 and 0 <= ny < 3:\n",
        "            new_board = [row[:] for row in board]\n",
        "            new_board[x][y], new_board[nx][ny] = new_board[nx][ny], new_board[x][y]\n",
        "            moves.append(new_board)\n",
        "    return moves\n",
        "\n",
        "def bfs(board):\n",
        "    start = time.time()\n",
        "    goal = [[1, 2, 3], [4, 5, 6], [7, 8, 0]]\n",
        "    visited = set()\n",
        "    queue = deque([(board, [])])\n",
        "    count = 0\n",
        "\n",
        "    while queue:\n",
        "        count += 1\n",
        "        current_board, path = queue.popleft()\n",
        "        visited.add(tuple(map(tuple, current_board)))\n",
        "\n",
        "        if current_board == goal:\n",
        "            end = time.time()\n",
        "            execution_time = round(end - start, 2)\n",
        "            return path, count, execution_time\n",
        "\n",
        "        possible_moves = get_moves(current_board)\n",
        "        for move in possible_moves:\n",
        "            move_tuple = tuple(map(tuple, move))\n",
        "            if move_tuple not in visited:\n",
        "                queue.append((move, path + [move_tuple]))\n",
        "                visited.add(move_tuple)\n",
        "\n",
        "    end = time.time()\n",
        "    execution_time = round(end - start, 2)\n",
        "    return None, count, execution_time\n",
        "\n",
        "board = [[1, 0, 3], [4, 2, 6], [7, 5, 8]]\n",
        "count, path, execution_time = bfs(board)\n",
        "\n",
        "if path:\n",
        "    print(\"Solução encontrada:\")\n",
        "    print(path)\n",
        "    print(f\"Iterações: {count}\")\n",
        "    print(f\"Tempo de execução: {execution_time} segundos\")\n",
        "else:\n",
        "    print(\"Não há solução.\")\n"
      ],
      "execution_count": 1,
      "outputs": [
        {
          "output_type": "stream",
          "name": "stdout",
          "text": [
            "Solução encontrada:\n",
            "19\n",
            "Iterações: [((1, 2, 3), (4, 0, 6), (7, 5, 8)), ((1, 2, 3), (4, 5, 6), (7, 0, 8)), ((1, 2, 3), (4, 5, 6), (7, 8, 0))]\n",
            "Tempo de execução: 0.0 segundos\n"
          ]
        }
      ]
    },
    {
      "cell_type": "markdown",
      "metadata": {
        "id": "zCCoey-J1U5t"
      },
      "source": [
        "## Busca em Profundidade"
      ]
    },
    {
      "cell_type": "code",
      "metadata": {
        "id": "XJkS_j3m8A4x",
        "colab": {
          "base_uri": "https://localhost:8080/"
        },
        "outputId": "b1faa04f-bc2b-4d89-ac10-e47111d7d1ad"
      },
      "source": [
        "import time\n",
        "from collections import deque\n",
        "\n",
        "def get_moves(board):\n",
        "    moves = []\n",
        "    dx = [0, 0, -1, 1]\n",
        "    dy = [-1, 1, 0, 0]\n",
        "    x, y = None, None\n",
        "    for i in range(3):\n",
        "        for j in range(3):\n",
        "            if board[i][j] == 0:\n",
        "                x, y = i, j\n",
        "                break\n",
        "    for i in range(4):\n",
        "        nx, ny = x + dx[i], y + dy[i]\n",
        "        if 0 <= nx < 3 and 0 <= ny < 3:\n",
        "            new_board = [row[:] for row in board]\n",
        "            new_board[x][y], new_board[nx][ny] = new_board[nx][ny], new_board[x][y]\n",
        "            moves.append(new_board)\n",
        "    return moves\n",
        "\n",
        "\n",
        "\n",
        "def dfs(board):\n",
        "  start = time.time()\n",
        "  goal = [[1, 2, 3], [4, 5, 6], [7, 8, 0]]\n",
        "  visited = set()\n",
        "  stack = ([(board, [])])\n",
        "  count = 0\n",
        "\n",
        "  while stack:\n",
        "    count += 1\n",
        "    current_board, path = stack.pop()\n",
        "    visited.add(tuple(map(tuple, current_board)))\n",
        "\n",
        "    if current_board == goal:\n",
        "      end = time.time()\n",
        "      execution_time = end - start\n",
        "      return path, count, execution_time\n",
        "\n",
        "    possible_moves = get_moves(current_board)\n",
        "    for move in possible_moves:\n",
        "      move_tuple = tuple(map(tuple, move))\n",
        "      if move_tuple not in visited:\n",
        "        stack.append((move, path + [move_tuple]))\n",
        "        visited.add(move_tuple)\n",
        "\n",
        "  execution_time = time.time() - start\n",
        "  return None, count, execution_time\n",
        "\n",
        "\n",
        "  execution_time = end - start\n",
        "  return None, count, execution_time\n",
        "\n",
        "\n",
        "board =[[1,2,3],[4,5,0],[6,7,8]]\n",
        "path, count, execution_time = bfs(board)\n",
        "\n",
        "if path:\n",
        "  print(\"Solução:\")\n",
        "  print(path)\n",
        "  print(f\"Iterações: {count}\")\n",
        "  print(f\"Tempo de execução: {execution_time}\")\n",
        "else:\n",
        "  print(\"Não possui solução.\")"
      ],
      "execution_count": null,
      "outputs": [
        {
          "output_type": "stream",
          "name": "stdout",
          "text": [
            "Solução:\n",
            "[((1, 2, 3), (4, 5, 8), (6, 7, 0)), ((1, 2, 3), (4, 5, 8), (6, 0, 7)), ((1, 2, 3), (4, 5, 8), (0, 6, 7)), ((1, 2, 3), (0, 5, 8), (4, 6, 7)), ((1, 2, 3), (5, 0, 8), (4, 6, 7)), ((1, 2, 3), (5, 6, 8), (4, 0, 7)), ((1, 2, 3), (5, 6, 8), (4, 7, 0)), ((1, 2, 3), (5, 6, 0), (4, 7, 8)), ((1, 2, 3), (5, 0, 6), (4, 7, 8)), ((1, 2, 3), (0, 5, 6), (4, 7, 8)), ((1, 2, 3), (4, 5, 6), (0, 7, 8)), ((1, 2, 3), (4, 5, 6), (7, 0, 8)), ((1, 2, 3), (4, 5, 6), (7, 8, 0))]\n",
            "Iterações: 3128\n",
            "Tempo de execução: 0.0352327823638916\n"
          ]
        }
      ]
    },
    {
      "cell_type": "markdown",
      "metadata": {
        "id": "rXU5HkCd1ZPu"
      },
      "source": [
        "## Discorra sobre o desempenho dos métodos em questões de:\n",
        "\n",
        "\n",
        "1.   Consumo de memória\n",
        "2.   Processamento\n",
        "\n"
      ]
    },
    {
      "cell_type": "code",
      "metadata": {
        "id": "-M6rztKu1W1j"
      },
      "source": [],
      "execution_count": null,
      "outputs": []
    }
  ]
}