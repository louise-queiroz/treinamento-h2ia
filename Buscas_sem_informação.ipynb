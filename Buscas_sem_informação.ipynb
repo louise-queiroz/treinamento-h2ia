{
  "nbformat": 4,
  "nbformat_minor": 0,
  "metadata": {
    "colab": {
      "provenance": []
    },
    "kernelspec": {
      "name": "python3",
      "display_name": "Python 3"
    },
    "language_info": {
      "name": "python"
    }
  },
  "cells": [
    {
      "cell_type": "markdown",
      "metadata": {
        "id": "21uUELma0562"
      },
      "source": [
        "# O Problema\n",
        "Sliding Puzzle - Bloco Deslizante"
      ]
    },
    {
      "cell_type": "code",
      "metadata": {
        "colab": {
          "base_uri": "https://localhost:8080/",
          "height": 218
        },
        "id": "duRbJW3rz01L",
        "outputId": "e1049773-9cf4-4b39-e026-e220c566311f"
      },
      "source": [
        "# !wget -qq https://miro.medium.com/max/700/1*W7jg4GmEjGBypd9WPktasQ.gif\n",
        "from IPython.display import Image\n",
        "Image(url='https://miro.medium.com/max/700/1*W7jg4GmEjGBypd9WPktasQ.gif',width=200)"
      ],
      "execution_count": null,
      "outputs": [
        {
          "output_type": "execute_result",
          "data": {
            "text/html": [
              "<img src=\"https://miro.medium.com/max/700/1*W7jg4GmEjGBypd9WPktasQ.gif\" width=\"200\"/>"
            ],
            "text/plain": [
              "<IPython.core.display.Image object>"
            ]
          },
          "metadata": {
            "tags": []
          },
          "execution_count": 5
        }
      ]
    },
    {
      "cell_type": "markdown",
      "metadata": {
        "id": "f6TPxqB-1Cwx"
      },
      "source": [
        "# Resolver o quebra-cabeças usando Buscas"
      ]
    },
    {
      "cell_type": "markdown",
      "metadata": {
        "id": "o6ZClGCC1RxB"
      },
      "source": [
        "## Busca em largura"
      ]
    },
    {
      "cell_type": "code",
      "metadata": {
        "id": "cmJfg8CF0Jwc",
        "colab": {
          "base_uri": "https://localhost:8080/"
        },
        "outputId": "264ffbb6-755b-4632-994c-dd04cfbeba34"
      },
      "source": [
        "import time\n",
        "\n",
        "def get_moves(board):\n",
        "    moves = []\n",
        "    dx = [0, 0, -1, 1]\n",
        "    dy = [-1, 1, 0, 0]\n",
        "    x, y = None, None\n",
        "    for i in range(3):\n",
        "        for j in range(3):\n",
        "            if board[i][j] == 0:\n",
        "                x, y = i, j\n",
        "                break\n",
        "    for i in range(4):\n",
        "        nx, ny = x + dx[i], y + dy[i]\n",
        "        if 0 <= nx < 3 and 0 <= ny < 3:\n",
        "            new_board = [row[:] for row in board]\n",
        "            new_board[x][y], new_board[nx][ny] = new_board[nx][ny], new_board[x][y]\n",
        "            moves.append(new_board)\n",
        "    return moves\n",
        "\n",
        "def dfs(board, goal, visited, path, max_depth, count):\n",
        "    count += 1\n",
        "    if board == goal:\n",
        "        return path, count\n",
        "\n",
        "    if max_depth <= 0:\n",
        "        return None, count\n",
        "\n",
        "    possible_moves = get_moves(board)\n",
        "    for move in possible_moves:\n",
        "        move_tuple = tuple(map(tuple, move))\n",
        "        if move_tuple not in visited:\n",
        "            visited.add(move_tuple)\n",
        "            result, count = dfs(move, goal, visited, path + [move_tuple], max_depth - 1, count)\n",
        "            if result:\n",
        "                return result, count\n",
        "            visited.remove(move_tuple)\n",
        "\n",
        "    return None, count\n",
        "\n",
        "def depth_first_search(board, max_depth=30):\n",
        "    start_time = time.time()\n",
        "    goal = [[1, 2, 3], [4, 5, 6], [7, 8, 0]]\n",
        "    visited = set()\n",
        "    visited.add(tuple(map(tuple, board)))\n",
        "    path = [(tuple(map(tuple, board)))]\n",
        "    count = 0\n",
        "\n",
        "    result, count = dfs(board, goal, visited, path, max_depth, count)\n",
        "    execution_time = time.time() - start_time\n",
        "\n",
        "    if result:\n",
        "        return result, count, execution_time\n",
        "    else:\n",
        "        return \"Solução não encontrada.\", count, execution_time\n",
        "\n",
        "# Exemplo de uso\n",
        "board = [[1, 0, 3], [4, 2, 6], [7, 5, 8]]\n",
        "solution, iterations, execution_time = depth_first_search(board)\n",
        "\n",
        "if isinstance(solution, str):\n",
        "    print(solution)\n",
        "else:\n",
        "    print(\"Solução encontrada:\")\n",
        "    for step in solution:\n",
        "        print(step)\n",
        "    print(f\"Iterações: {iterations}\")\n",
        "    print(f\"Tempo de execução: {execution_time} segundos\")\n"
      ],
      "execution_count": 16,
      "outputs": [
        {
          "output_type": "stream",
          "name": "stdout",
          "text": [
            "Solução encontrada:\n",
            "((1, 0, 3), (4, 2, 6), (7, 5, 8))\n",
            "((0, 1, 3), (4, 2, 6), (7, 5, 8))\n",
            "((4, 1, 3), (0, 2, 6), (7, 5, 8))\n",
            "((4, 1, 3), (2, 0, 6), (7, 5, 8))\n",
            "((4, 1, 3), (2, 6, 0), (7, 5, 8))\n",
            "((4, 1, 0), (2, 6, 3), (7, 5, 8))\n",
            "((4, 0, 1), (2, 6, 3), (7, 5, 8))\n",
            "((0, 4, 1), (2, 6, 3), (7, 5, 8))\n",
            "((2, 4, 1), (0, 6, 3), (7, 5, 8))\n",
            "((2, 4, 1), (6, 0, 3), (7, 5, 8))\n",
            "((2, 0, 1), (6, 4, 3), (7, 5, 8))\n",
            "((2, 1, 0), (6, 4, 3), (7, 5, 8))\n",
            "((2, 1, 3), (6, 4, 0), (7, 5, 8))\n",
            "((2, 1, 3), (6, 0, 4), (7, 5, 8))\n",
            "((2, 0, 3), (6, 1, 4), (7, 5, 8))\n",
            "((0, 2, 3), (6, 1, 4), (7, 5, 8))\n",
            "((6, 2, 3), (0, 1, 4), (7, 5, 8))\n",
            "((6, 2, 3), (1, 0, 4), (7, 5, 8))\n",
            "((6, 2, 3), (1, 4, 0), (7, 5, 8))\n",
            "((6, 2, 0), (1, 4, 3), (7, 5, 8))\n",
            "((6, 0, 2), (1, 4, 3), (7, 5, 8))\n",
            "((0, 6, 2), (1, 4, 3), (7, 5, 8))\n",
            "((1, 6, 2), (0, 4, 3), (7, 5, 8))\n",
            "((1, 6, 2), (4, 0, 3), (7, 5, 8))\n",
            "((1, 0, 2), (4, 6, 3), (7, 5, 8))\n",
            "((1, 2, 0), (4, 6, 3), (7, 5, 8))\n",
            "((1, 2, 3), (4, 6, 0), (7, 5, 8))\n",
            "((1, 2, 3), (4, 0, 6), (7, 5, 8))\n",
            "((1, 2, 3), (4, 5, 6), (7, 0, 8))\n",
            "((1, 2, 3), (4, 5, 6), (7, 8, 0))\n",
            "Iterações: 184705\n",
            "Tempo de execução: 0.9071707725524902 segundos\n"
          ]
        }
      ]
    },
    {
      "cell_type": "markdown",
      "metadata": {
        "id": "zCCoey-J1U5t"
      },
      "source": [
        "## Busca em Profundidade"
      ]
    },
    {
      "cell_type": "code",
      "metadata": {
        "id": "XJkS_j3m8A4x",
        "colab": {
          "base_uri": "https://localhost:8080/"
        },
        "outputId": "b1faa04f-bc2b-4d89-ac10-e47111d7d1ad"
      },
      "source": [
        "import time\n",
        "from collections import deque\n",
        "\n",
        "def get_moves(board):\n",
        "    moves = []\n",
        "    dx = [0, 0, -1, 1]\n",
        "    dy = [-1, 1, 0, 0]\n",
        "    x, y = None, None\n",
        "    for i in range(3):\n",
        "        for j in range(3):\n",
        "            if board[i][j] == 0:\n",
        "                x, y = i, j\n",
        "                break\n",
        "    for i in range(4):\n",
        "        nx, ny = x + dx[i], y + dy[i]\n",
        "        if 0 <= nx < 3 and 0 <= ny < 3:\n",
        "            new_board = [row[:] for row in board]\n",
        "            new_board[x][y], new_board[nx][ny] = new_board[nx][ny], new_board[x][y]\n",
        "            moves.append(new_board)\n",
        "    return moves\n",
        "\n",
        "\n",
        "\n",
        "def dfs(board):\n",
        "  start = time.time()\n",
        "  goal = [[1, 2, 3], [4, 5, 6], [7, 8, 0]]\n",
        "  visited = set()\n",
        "  stack = ([(board, [])])\n",
        "  count = 0\n",
        "\n",
        "  while stack:\n",
        "    count += 1\n",
        "    current_board, path = stack.pop()\n",
        "    visited.add(tuple(map(tuple, current_board)))\n",
        "\n",
        "    if current_board == goal:\n",
        "      end = time.time()\n",
        "      execution_time = end - start\n",
        "      return path, count, execution_time\n",
        "\n",
        "    possible_moves = get_moves(current_board)\n",
        "    for move in possible_moves:\n",
        "      move_tuple = tuple(map(tuple, move))\n",
        "      if move_tuple not in visited:\n",
        "        stack.append((move, path + [move_tuple]))\n",
        "        visited.add(move_tuple)\n",
        "\n",
        "  execution_time = time.time() - start\n",
        "  return None, count, execution_time\n",
        "\n",
        "\n",
        "  execution_time = end - start\n",
        "  return None, count, execution_time\n",
        "\n",
        "\n",
        "board =[[1,2,3],[4,5,0],[6,7,8]]\n",
        "path, count, execution_time = bfs(board)\n",
        "\n",
        "if path:\n",
        "  print(\"Solução:\")\n",
        "  print(path)\n",
        "  print(f\"Iterações: {count}\")\n",
        "  print(f\"Tempo de execução: {execution_time}\")\n",
        "else:\n",
        "  print(\"Não possui solução.\")"
      ],
      "execution_count": 15,
      "outputs": [
        {
          "output_type": "stream",
          "name": "stdout",
          "text": [
            "Solução:\n",
            "[((1, 2, 3), (4, 5, 8), (6, 7, 0)), ((1, 2, 3), (4, 5, 8), (6, 0, 7)), ((1, 2, 3), (4, 5, 8), (0, 6, 7)), ((1, 2, 3), (0, 5, 8), (4, 6, 7)), ((1, 2, 3), (5, 0, 8), (4, 6, 7)), ((1, 2, 3), (5, 6, 8), (4, 0, 7)), ((1, 2, 3), (5, 6, 8), (4, 7, 0)), ((1, 2, 3), (5, 6, 0), (4, 7, 8)), ((1, 2, 3), (5, 0, 6), (4, 7, 8)), ((1, 2, 3), (0, 5, 6), (4, 7, 8)), ((1, 2, 3), (4, 5, 6), (0, 7, 8)), ((1, 2, 3), (4, 5, 6), (7, 0, 8)), ((1, 2, 3), (4, 5, 6), (7, 8, 0))]\n",
            "Iterações: 3128\n",
            "Tempo de execução: 0.0352327823638916\n"
          ]
        }
      ]
    },
    {
      "cell_type": "markdown",
      "metadata": {
        "id": "rXU5HkCd1ZPu"
      },
      "source": [
        "## Discorra sobre o desempenho dos métodos em questões de:\n",
        "\n",
        "\n",
        "1.   Consumo de memória\n",
        "2.   Processamento\n",
        "\n"
      ]
    },
    {
      "cell_type": "code",
      "metadata": {
        "id": "-M6rztKu1W1j"
      },
      "source": [],
      "execution_count": null,
      "outputs": []
    }
  ]
}