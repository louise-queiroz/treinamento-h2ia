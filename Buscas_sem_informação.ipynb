{
  "nbformat": 4,
  "nbformat_minor": 0,
  "metadata": {
    "colab": {
      "provenance": []
    },
    "kernelspec": {
      "name": "python3",
      "display_name": "Python 3"
    },
    "language_info": {
      "name": "python"
    }
  },
  "cells": [
    {
      "cell_type": "markdown",
      "metadata": {
        "id": "21uUELma0562"
      },
      "source": [
        "# O Problema\n",
        "Sliding Puzzle - Bloco Deslizante"
      ]
    },
    {
      "cell_type": "code",
      "metadata": {
        "colab": {
          "base_uri": "https://localhost:8080/",
          "height": 218
        },
        "id": "duRbJW3rz01L",
        "outputId": "e1049773-9cf4-4b39-e026-e220c566311f"
      },
      "source": [
        "# !wget -qq https://miro.medium.com/max/700/1*W7jg4GmEjGBypd9WPktasQ.gif\n",
        "from IPython.display import Image\n",
        "Image(url='https://miro.medium.com/max/700/1*W7jg4GmEjGBypd9WPktasQ.gif',width=200)"
      ],
      "execution_count": null,
      "outputs": [
        {
          "output_type": "execute_result",
          "data": {
            "text/html": [
              "<img src=\"https://miro.medium.com/max/700/1*W7jg4GmEjGBypd9WPktasQ.gif\" width=\"200\"/>"
            ],
            "text/plain": [
              "<IPython.core.display.Image object>"
            ]
          },
          "metadata": {
            "tags": []
          },
          "execution_count": 5
        }
      ]
    },
    {
      "cell_type": "markdown",
      "metadata": {
        "id": "f6TPxqB-1Cwx"
      },
      "source": [
        "# Resolver o quebra-cabeças usando Buscas"
      ]
    },
    {
      "cell_type": "code",
      "source": [
        "import time\n",
        "import numpy as np\n",
        "from collections import deque\n",
        "\n",
        "class Node:\n",
        "    def __init__(self, state, parent=None, action=None, depth=0):\n",
        "        self.state = np.array(state)\n",
        "        self.children = []\n",
        "        self.parent = parent\n",
        "        self.action = action\n",
        "        self.depth = depth\n",
        "\n",
        "    def __eq__(self, other):\n",
        "        return np.array_equal(self.state, other.state)\n",
        "\n",
        "    def expand_node(self):\n",
        "        zero_positions = np.argwhere(self.state == 0)\n",
        "\n",
        "        if zero_positions.size > 0:\n",
        "            zero_i, zero_j = zero_positions[0]\n",
        "\n",
        "            if zero_i > 0:\n",
        "                new_state = np.copy(self.state)\n",
        "                new_state[zero_i, zero_j], new_state[zero_i - 1, zero_j] = new_state[zero_i - 1, zero_j], new_state[zero_i, zero_j]\n",
        "                new_node = Node(new_state.tolist(), parent=self, action=\"Up\", depth=self.depth + 1)\n",
        "                self.children.append(new_node)\n",
        "            if zero_i < 2:\n",
        "                new_state = np.copy(self.state)\n",
        "                new_state[zero_i, zero_j], new_state[zero_i + 1, zero_j] = new_state[zero_i + 1, zero_j], new_state[zero_i, zero_j]\n",
        "                new_node = Node(new_state.tolist(), parent=self, action=\"Down\", depth=self.depth + 1)\n",
        "                self.children.append(new_node)\n",
        "\n",
        "            if zero_j > 0:\n",
        "                new_state = np.copy(self.state)\n",
        "                new_state[zero_i, zero_j], new_state[zero_i, zero_j - 1] = new_state[zero_i, zero_j - 1], new_state[zero_i, zero_j]\n",
        "                new_node = Node(new_state.tolist(), parent=self, action=\"Left\", depth=self.depth + 1)\n",
        "                self.children.append(new_node)\n",
        "\n",
        "            if zero_j < 2:\n",
        "                new_state = np.copy(self.state)\n",
        "                new_state[zero_i, zero_j], new_state[zero_i, zero_j + 1] = new_state[zero_i, zero_j + 1], new_state[zero_i, zero_j]\n",
        "                new_node = Node(new_state.tolist(), parent=self, action=\"Right\", depth=self.depth + 1)\n",
        "                self.children.append(new_node)"
      ],
      "metadata": {
        "id": "zfVGovIK1WwW"
      },
      "execution_count": 2,
      "outputs": []
    },
    {
      "cell_type": "markdown",
      "metadata": {
        "id": "o6ZClGCC1RxB"
      },
      "source": [
        "## Busca em largura"
      ]
    },
    {
      "cell_type": "code",
      "source": [
        "def bfs(initial_state):\n",
        "    start = time.time()\n",
        "    goal = [[1, 2, 3], [4, 5, 6], [7, 8, 0]]\n",
        "    visited = set()\n",
        "    queue = deque([Node(initial_state)])\n",
        "    count = 0\n",
        "\n",
        "    while queue:\n",
        "        count += 1\n",
        "        current_node = queue.popleft()\n",
        "        visited.add(tuple(map(tuple, current_node.state)))\n",
        "\n",
        "        if np.array_equal(current_node.state, goal):\n",
        "            end = time.time()\n",
        "            execution_time = round(end - start, 5)\n",
        "            return current_node, count, execution_time\n",
        "\n",
        "        current_node.expand_node()\n",
        "        for child in current_node.children:\n",
        "            child_tuple = tuple(map(tuple, child.state))\n",
        "            if child_tuple not in visited:\n",
        "                queue.append(child)\n",
        "\n",
        "    end = time.time()\n",
        "    execution_time = round(end - start, 2)\n",
        "    return None, count, execution_time\n",
        "\n",
        "board = [[1, 0, 3], [4, 2, 6], [7, 5, 8]]\n",
        "result, count, execution_time = bfs(board)\n",
        "if result:\n",
        "    print(\"Solução encontrada usando BFS:\")\n",
        "    path = []\n",
        "    while result:\n",
        "        path.append(result.state.tolist())\n",
        "        result = result.parent\n",
        "    path.reverse()\n",
        "    print(path)\n",
        "    print(f\"Iterações: {count}\")\n",
        "    print(f\"Tempo de execução: {execution_time} segundos\")\n",
        "else:\n",
        "    print(\"Não há solução usando BFS.\")"
      ],
      "metadata": {
        "colab": {
          "base_uri": "https://localhost:8080/"
        },
        "id": "YJ2XItnr1dhL",
        "outputId": "f8b3a365-a66c-4187-87cb-0a846c785e5f"
      },
      "execution_count": 6,
      "outputs": [
        {
          "output_type": "stream",
          "name": "stdout",
          "text": [
            "Solução encontrada usando BFS:\n",
            "[[[1, 0, 3], [4, 2, 6], [7, 5, 8]], [[1, 2, 3], [4, 0, 6], [7, 5, 8]], [[1, 2, 3], [4, 5, 6], [7, 0, 8]], [[1, 2, 3], [4, 5, 6], [7, 8, 0]]]\n",
            "Iterações: 11\n",
            "Tempo de execução: 0.00547 segundos\n"
          ]
        }
      ]
    },
    {
      "cell_type": "markdown",
      "metadata": {
        "id": "zCCoey-J1U5t"
      },
      "source": [
        "## Busca em Profundidade"
      ]
    },
    {
      "cell_type": "code",
      "source": [
        "def dfs(initial_state):\n",
        "    start = time.time()\n",
        "    goal = [[1, 2, 3], [4, 5, 6], [7, 8, 0]]\n",
        "    visited = set()\n",
        "    stack = [Node(initial_state)]\n",
        "    count = 0\n",
        "\n",
        "    while stack:\n",
        "        count += 1\n",
        "        current_node = stack.pop()\n",
        "        visited.add(tuple(map(tuple, current_node.state)))\n",
        "\n",
        "        if np.array_equal(current_node.state, goal):\n",
        "            end = time.time()\n",
        "            execution_time = round(end - start, 2)\n",
        "            return current_node, count, execution_time\n",
        "\n",
        "        current_node.expand_node()\n",
        "        for child in current_node.children:\n",
        "            child_tuple = tuple(map(tuple, child.state))\n",
        "            if child_tuple not in visited:\n",
        "                stack.append(child)\n",
        "\n",
        "    end = time.time()\n",
        "    execution_time = round(end - start, 2)\n",
        "    return None, count, execution_time\n",
        "\n",
        "board = [[1, 2, 3], [4, 5, 0], [6, 7, 8]]\n",
        "result, count, execution_time = bfs(board)\n",
        "\n",
        "if result:\n",
        "    print(\"\\nSolução encontrada usando DFS:\")\n",
        "    path = []\n",
        "    while result:\n",
        "        path.append(result.state.tolist())\n",
        "        result = result.parent\n",
        "    path.reverse()\n",
        "    print(path)\n",
        "    print(f\"Iterações: {count}\")\n",
        "    print(f\"Tempo de execução: {execution_time} segundos\")\n",
        "else:\n",
        "    print(\"Não há solução usando DFS.\")"
      ],
      "metadata": {
        "colab": {
          "base_uri": "https://localhost:8080/"
        },
        "id": "AUVzflm71q6V",
        "outputId": "3b228f06-7631-4c42-ab41-801ff98f2bf0"
      },
      "execution_count": 12,
      "outputs": [
        {
          "output_type": "stream",
          "name": "stdout",
          "text": [
            "\n",
            "Solução encontrada usando DFS:\n",
            "[[[1, 2, 3], [4, 5, 0], [6, 7, 8]], [[1, 2, 3], [4, 5, 8], [6, 7, 0]], [[1, 2, 3], [4, 5, 8], [6, 0, 7]], [[1, 2, 3], [4, 5, 8], [0, 6, 7]], [[1, 2, 3], [0, 5, 8], [4, 6, 7]], [[1, 2, 3], [5, 0, 8], [4, 6, 7]], [[1, 2, 3], [5, 6, 8], [4, 0, 7]], [[1, 2, 3], [5, 6, 8], [4, 7, 0]], [[1, 2, 3], [5, 6, 0], [4, 7, 8]], [[1, 2, 3], [5, 0, 6], [4, 7, 8]], [[1, 2, 3], [0, 5, 6], [4, 7, 8]], [[1, 2, 3], [4, 5, 6], [0, 7, 8]], [[1, 2, 3], [4, 5, 6], [7, 0, 8]], [[1, 2, 3], [4, 5, 6], [7, 8, 0]]]\n",
            "Iterações: 3049\n",
            "Tempo de execução: 0.26226 segundos\n"
          ]
        }
      ]
    },
    {
      "cell_type": "markdown",
      "metadata": {
        "id": "rXU5HkCd1ZPu"
      },
      "source": [
        "## Discorra sobre o desempenho dos métodos em questões de:\n",
        "\n",
        "\n",
        "1.   Consumo de memória\n",
        "2.   Processamento\n",
        "\n"
      ]
    },
    {
      "cell_type": "markdown",
      "source": [
        "1.  O BFS tende a consumir mais memória pois armazena todos os nós de um determinado nível, a complexidade de espaço é proporcional ao numéro máximo de nós (O(b^d)). Porém com base nos testes feitos o BFS executou em menos iterações, isso pois ele encontrou a solução mais rasa\n",
        "2. O tempo de execução do BFS foi menor que o do DFS, isso dado pois a solução estava num nível raso, logo, foi melhor essa abordagem diminuindo o tempo."
      ],
      "metadata": {
        "id": "aiE4vxML2l7i"
      }
    }
  ]
}